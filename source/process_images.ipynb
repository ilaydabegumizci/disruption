{
 "cells": [
  {
   "cell_type": "code",
   "execution_count": null,
   "metadata": {},
   "outputs": [],
   "source": [
    "from PIL import Image\n",
    "import matplotlib.pyplot as plt\n",
    "import os\n",
    "#to install matplotlib, and PIL"
   ]
  },
  {
   "cell_type": "code",
   "execution_count": null,
   "metadata": {},
   "outputs": [],
   "source": [
    "file_path=\"/disruption_images_resized_1024\"\n",
    "'C:/Users/WS2/Desktop/kozmiksefer/disruption/dataset/\n",
    "#todo path eklenmesi\n",
    "#yazılacak yer"
   ]
  },
  {
   "cell_type": "code",
   "execution_count": null,
   "metadata": {},
   "outputs": [],
   "source": [
    "import glob\n",
    "#path güncelle okunacak dosya\n",
    "image_files = sorted(glob.glob(\"/content/gdrive/MyDrive/impressionist_landscapes/*.jpg\"))\n",
    "num_files = len(image_files)\n",
    "print(num_files)"
   ]
  },
  {
   "cell_type": "code",
   "execution_count": null,
   "metadata": {},
   "outputs": [],
   "source": [
    "import numpy as np\n",
    "aspect_ratios = np.zeros(num_files)\n",
    "\n",
    "for i, file in enumerate(image_files):\n",
    "  img = Image.open(file)\n",
    "  width, height = img.size\n",
    "  aspect_ratio = width / height\n",
    "  aspect_ratios[i:i+1] = aspect_ratio\n",
    "  if i%100 == 0:\n",
    "    print(i, np.median(aspect_ratios[:i]))"
   ]
  },
  {
   "cell_type": "code",
   "execution_count": null,
   "metadata": {},
   "outputs": [],
   "source": [
    "print(aspect_ratios)\n",
    "print(aspect_ratios.mean())\n",
    "print(np.median(aspect_ratios))\n",
    "median_aspect_ratio = np.median(aspect_ratios)"
   ]
  },
  {
   "cell_type": "code",
   "execution_count": null,
   "metadata": {},
   "outputs": [],
   "source": [
    "\n",
    "median_aspect_ratio = 1.2675\n",
    "\n",
    "for i, file in enumerate(image_files):\n",
    "\n",
    "  img = Image.open(file)\n",
    "  width, height = img.size\n",
    "  # print(width, height)\n",
    "  aspect_ratio = width / height\n",
    "  mode = img.mode\n",
    "  if mode is not \"RGB\":\n",
    "    continue\n",
    "  # (left, upper, right, lower)\n",
    "  # print(round(aspect_ratio, 3), round(median_aspect_ratio, 3))\n",
    "  if (aspect_ratio > median_aspect_ratio):\n",
    "    new_width = height * median_aspect_ratio\n",
    "    delta = width - new_width\n",
    "    img_cropped = img.crop(((delta/2, 0, width-delta/2, height)))\n",
    "  else:\n",
    "    new_height = width / median_aspect_ratio\n",
    "    delta = height - new_height\n",
    "    img_cropped = img.crop(((0, delta/2, width, height-delta/2)))\n",
    "\n",
    "  img_resized = img.resize((resolution, resolution))\n",
    "  #todo: change file path names\n",
    "  save_path = file.replace(folder_name, folder_name + \"_resized_\" + str(resolution))\n",
    "  img_resized.save(save_path)\n",
    "\n",
    "  if i%100 == 0:\n",
    "    imgplot = plt.imshow(img_resized)\n",
    "    plt.axis(\"off\")\n",
    "    plt.show()\n",
    "    print(i, save_path)"
   ]
  },
  {
   "cell_type": "code",
   "execution_count": 12,
   "metadata": {},
   "outputs": [
    {
     "name": "stderr",
     "output_type": "stream",
     "text": [
      "'ls' is not recognized as an internal or external command,\n",
      "operable program or batch file.\n"
     ]
    }
   ],
   "source": [
    "!ls /content/gdrive/MyDrive/impressionist_landscapes_resized_1024/*.jpg | wc -l"
   ]
  }
 ],
 "metadata": {
  "kernelspec": {
   "display_name": "Python 3.10.6 ('env': venv)",
   "language": "python",
   "name": "python3"
  },
  "language_info": {
   "codemirror_mode": {
    "name": "ipython",
    "version": 3
   },
   "file_extension": ".py",
   "mimetype": "text/x-python",
   "name": "python",
   "nbconvert_exporter": "python",
   "pygments_lexer": "ipython3",
   "version": "3.10.6"
  },
  "orig_nbformat": 4,
  "vscode": {
   "interpreter": {
    "hash": "20bf69066c0dd38d51965b69d5e1b6e387082e3198ba56e97997ac55f4e50ad0"
   }
  }
 },
 "nbformat": 4,
 "nbformat_minor": 2
}
